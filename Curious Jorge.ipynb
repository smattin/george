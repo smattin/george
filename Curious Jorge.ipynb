{
 "cells": [
  {
   "cell_type": "markdown",
   "metadata": {
    "slideshow": {
     "slide_type": "notes"
    }
   },
   "source": [
    "'''\n",
    "## Notes on Curious Jorge\n",
    "\n",
    "[Curious Jorge] (https://github.com/smattin/george) is long-term project exploring ideas in knowledge representation and learning strategies.\n",
    "\n",
    "The vision is of a set of programs allowing machine learning via interaction with humans,\n",
    "primarily question-answer conversations with the machine asking the questions,\n",
    "rather than the more commonly pursued reverse objective.\n",
    "\n",
    "The knowledge representation aspect comes from a conviction that arbitrary directed graphs of concepts do not provide enough structure (hierarchy) to allow generation of generalizations\n",
    "and tree-based structures do not easily reflect the complex relations in real-world applications.  It is theorized that lattices are a more natural structure that have properties that will allow simple reasoning to extend the knowledge base with appropriate feedback supplied by humans in the form of simple answers.\n",
    "\n",
    "The learning strategy being explored is motivated by observation of the young children\n",
    "quickly learning vast amounts of language and concepts through interaction with adults.\n",
    "For example, when a child learns the word \"book\", they will observe it being applied to\n",
    "a number of physically differing objects, soft and hard-cover, paper/cloth, large/small.\n",
    "If subsequently given a magazine, they may pick it up and say \"Book?\" or even \"Book!\".\n",
    "Given appropriate feed-back, \"No, that is a magazine\", the child will eventually\n",
    "distinguish the characteristics of a magazine and how it differs from a book.\n",
    "\n",
    "The key point of this kind of interaction is that the learner is extrapolating existing\n",
    "concepts by applying them to instances encountered in independent explorations and\n",
    "refining the concepts by soliciting confirmation of their extrapolations.  The answers\n",
    "do not have to be complex, for example the adult in the previous conversation does not\n",
    "necessarily have to describe all the ways books and magazines differ, just provide\n",
    "direction by signaling whether particular things are positive examples or not.\n",
    "\n",
    "We would like to avoid the trap of the endless query \"Why?\", a popular way for children\n",
    "to torment their parents.  \"Because I said so\" should be a perfectly acceptable answer,\n",
    "even if it does not supply a lot of detail.  The learner may eventually start to distinguish\n",
    "the level of trust appropriate to different people by backtracking when inconsistencies in the current knowledge-base or by asking the same questions multiple times and to multiple people.  This kind of analysis of the basis for knowledge would also be a valuable development tool.\n",
    "\n",
    "Natural language processing (NLP) is assumed to be a prerequisite for implementing\n",
    "such systems, to allow the learner to interact with a wide range of people and avoid\n",
    "placing too large a burden on any one source.  There also needs to be some entertainment\n",
    "value for the humans involved to motivate their participation.  While the novelty of\n",
    "teaching an artificial \"person\" can provide some help with this, engaging them in other ways\n",
    "and treating the answering of question as a kind of exchange for other services is another\n",
    "possibility.  Embedding the QA system in wider \"chatbot\" or \"personal assistant\" frameworks\n",
    "could be a useful, although there should be proper consideration given to acting on\n",
    "negative feedback, like \"Go away kid, you're bothering me\".\n",
    "\n",
    "The initial debut of the infamous [Microsoft Tay system](https://www.theguardian.com/technology/2016/mar/24/tay-microsofts-ai-chatbot-gets-a-crash-course-in-racism-from-twitter) is particularly instructive as to protections that must be incorporated in deployment of any such system.  Here are a couple of simple ideas:\n",
    "+ limit access to known groups that are motivated towards the success of the project\n",
    "+ charge money\n",
    "\n",
    "'''"
   ]
  }
 ],
 "metadata": {
  "celltoolbar": "Slideshow",
  "kernelspec": {
   "display_name": "Python 3",
   "language": "python",
   "name": "python3"
  },
  "language_info": {
   "codemirror_mode": {
    "name": "ipython",
    "version": 3
   },
   "file_extension": ".py",
   "mimetype": "text/x-python",
   "name": "python",
   "nbconvert_exporter": "python",
   "pygments_lexer": "ipython3",
   "version": "3.6.0"
  }
 },
 "nbformat": 4,
 "nbformat_minor": 2
}
