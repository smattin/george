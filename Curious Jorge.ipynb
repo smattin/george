{
 "cells": [
  {
   "source": [
    "## Notes on Curious Jorge\n",
    "\n",
    "[Curious Jorge] (https://github.com/smattin/george) is long-term project exploring ideas in knowledge representation and learning strategies.\n",
    "\n",
    "The vision is of a set of programs allowing machine learning via interaction with humans, primarily question-answer conversations with the machine asking the questions, rather than the more commonly pursued reverse.\n",
    "\n",
    "The knowledge representation aspect comes from a conviction that arbitrary directed graphs of concepts do not provide enough structure (hierarchy) to allow generation of generalizations and tree-based structures do not easily reflect the complex relations in real-world applications.  It is theorized that lattices are a more natural structure that have properties that allow simple reasoning to extend the knowledge base with appropriate feedback supplied by humans in the form of simple answers.\n",
    "\n",
    "Evidence for this theory may be found in [Formal Concept Analysis](https://www.coursera.org/learn/formal-concept-analysis/) (FCA).\n",
    "\n",
    "The learning strategy being explored is motivated by observation of young children quickly learning vast amounts of language and concepts through interaction with adults. For example, when a child learns the word \"book\", they will observe it being applied to a number of physically differing objects, soft and hard-cover, paper/cloth, large/small.\n",
    "If subsequently given a magazine, they may pick it up and say \"Book?\" or even \"Book!\". Given appropriate feed-back, \"No, that is a magazine\", the child will eventually distinguish the characteristics of a magazine and how it differs from a book.\n",
    "\n",
    "The key point of this kind of interaction is that the learner is extrapolating existing concepts by applying them to instances encountered in independent explorations and refining the concepts by soliciting confirmation of their extrapolations.  The answers do not have to be complex, for example the adult in the previous conversation does not\n",
    "necessarily have to describe all the ways books and magazines differ, just provide direction by signaling whether particular things are positive examples or not.  Anecdotal evidence suggests that producing significant training data sets is a major impediment in machine learning projects.  Crowd-sourcing this and providing ongoing improvements to the training data would allow more evolutionary approaches.\n",
    "\n",
    "The [NELL](http://www.cmu.edu/homepage/computing/2010/fall/nell-computer-that-learns.shtml) system at CMU has similar goals and may provide a valuable part of the solution.\n",
    "\n",
    "We would like to avoid the trap of the endless query \"Why?\", a popular way for children to torment their parents.  \"Because I said so\" should be a perfectly acceptable answer, even if it does not supply a lot of detail.  The learner should eventually start to distinguish the level of trust appropriate to different people by backtracking when inconsistencies are discovered in the current knowledge-base or by asking the same questions multiple times and to multiple people.  This kind of analysis of the basis for knowledge would also be a valuable development tool.\n",
    "\n",
    "Natural language processing (NLP) is assumed to be a prerequisite for implementing such systems, to allow the learner to interact with a wide range of people and avoid placing too large a burden on any one source.  There also needs to be some entertainment value for the humans involved to motivate their participation.  While the novelty of teaching an artificial \"person\" can provide some help with this, engaging them in other ways and treating the answering of question as a kind of exchange for other services is another possibility.  Embedding the QA system in wider \"chatbot\" or \"personal assistant\" frameworks could be a useful, although there should be proper consideration given to acting on negative feedback, like \"Go away kid, you're bothering me\".\n",
    "\n",
    "The initial debut of the infamous [Microsoft Tay system](https://www.theguardian.com/technology/2016/mar/24/tay-microsofts-ai-chatbot-gets-a-crash-course-in-racism-from-twitter) is particularly instructive as to protections that must be incorporated in deployment of any such system.  Here are a couple of simple ideas:\n",
    "+ limit access to known groups that are motivated towards the success of the project\n",
    "+ charge money\n",
    "\n",
    "#### Implementation Considerations\n",
    "\n",
    "The widespread availability of NLP systems and ubiquity of smartphones has produced the opportunity to implement conversational interfaces with minimal distraction by the complexity of the interface and delivery systems that would have made this project only a theoretical possibility until now.  Especially in the K-12 educational space, young people have access to technology that can allow them to participate in projects like this.\n",
    "\n",
    "There are important considerations of protection of personally identifying information (PII) that are more strictly enforced for children, but it is supposed they are also more likely to be comfortable using new patterns of interaction with computer/communication devices.  Where possible, first names will be useful for making interactions friendlier but actual identities would only be used for privileged users. When starting a conversation, the user can be asked to supply a name with appropriate pronounciation. (Hi, my name is Jorge, what's yours?)  Ideally, subsequent interactions could use voice (image?) recognition to automatically identify users, but it is not clear if these capabilities can be found 'off-the-shelf' yet.\n",
    "\n",
    "As noted above, tagging interactions with persistant identities will be useful in controlling access, avoiding abuse, and determining confidence levels and provenance for knowledge.  Password-free authentication is highly recommended and existing third-party systems should be utilized to make spontaneous interaction possible.\n",
    "\n",
    "###### Candidate NLP systems\n",
    "\n",
    "Amazon Lex/Polly https://aws.amazon.com/lex/\n",
    "Apple Siri\n",
    "Google Home\n",
    "Microsoft Cortana\n",
    "Wolfram Alpha\n",
    "\n",
    "The openness and low barriers to entry of [Amazon AI] (https://aws.amazon.com/amazon-ai/) systems make them an attractive choice, at least for prototyping.  Echo Dot can be used as an I/O device, although porting to more ubiquitous Apple/Android phones would be an eventual goal.\n",
    "\n",
    "> \"Amazon Lex currently supports SDKs for runtime services. IoS and Android SDKs support both > text and speech input. Java, JS, Python, CLI, .Net, Ruby, PHP, Go, CPP currently support\n",
    "> only text input.\" - https://aws.amazon.com/lex/faqs/ http://docs.aws.amazon.com/mobile/sdkforios/developerguide/lex-natural-language-interface-for-ios.html\n",
    "\n",
    "Recently Alexa SDKs have added support for multimedia and JSX/React https://developer.amazon.com/en-US/blogs/alexa/alexa-skills-kit/2020/07/new-alexa-presentation-language-1-4\n",
    "\n",
    "An extension and simplification of GPT3 called LM-BFF https://arxiv.org/pdf/2012.15723v1.pdf purports to make it accessible for research purposes.\n",
    "This needs further investigation for applicability to the George project.\n",
    "\n",
    "#### Lattices\n",
    "\n",
    "Lattices are a mathematical concept.  They are used in Computer Science type systems and distributed computation, particularly \"eventual consistentcy\".  A lattice is a POSET, a set V and a relation, a set of pairs of elements of V, that defines a partial order. Partial orders mean that every pair of elements of V is not necessarily in the relation, they may be 'incomparible' with respect to the relation. The relation is a subset of the power set V x V. A POSET where every pair of elements have a 'supremum', an element greater than or equal to both, is a lattice.  The pairs (a,b) in the relation are said to have a $\\leq$ b.  Lattices are commonly drawn as Hasse diagrams.                                                                                                         \n",
    "\n",
    "Lattices are also central to FCA.  A formal concept is defined as a set of objects with associated attributes A that is \"closed\" in some concept context.  Closed means that if we find all objects that have the set of attributes, then all attributes they have in common, we arrive at the same A (attribute closure).\n",
    "\n",
    "A formal context is a triple: a set of objects G, a set of attributes M, and an relation (in the math sense of pairs) between them, I, the incidence relation."
   ],
   "cell_type": "markdown",
   "metadata": {
    "slideshow": {
     "slide_type": "notes"
    }
   }
  },
  {
   "cell_type": "code",
   "execution_count": null,
   "metadata": {
    "collapsed": true,
    "slideshow": {
     "slide_type": "fragment"
    }
   },
   "outputs": [],
   "source": [
    "https://artificialintelligencenow.com/"
   ]
  },
  {
   "cell_type": "code",
   "execution_count": null,
   "metadata": {
    "collapsed": true
   },
   "outputs": [],
   "source": []
  }
 ],
 "metadata": {
  "celltoolbar": "Slideshow",
  "kernelspec": {
   "display_name": "Python 3",
   "language": "python",
   "name": "python3"
  },
  "language_info": {
   "codemirror_mode": {
    "name": "ipython",
    "version": 3
   },
   "file_extension": ".py",
   "mimetype": "text/x-python",
   "name": "python",
   "nbconvert_exporter": "python",
   "pygments_lexer": "ipython3",
   "version": "3.6.0"
  }
 },
 "nbformat": 4,
 "nbformat_minor": 2
}
